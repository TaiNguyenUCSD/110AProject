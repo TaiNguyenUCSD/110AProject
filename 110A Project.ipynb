{
 "cells": [
  {
   "cell_type": "code",
   "execution_count": 20,
   "metadata": {},
   "outputs": [],
   "source": [
    "import numpy as np\n",
    "from scipy.integrate import odeint\n",
    "import matplotlib.pyplot as plt\n",
    "import time\n",
    "import math"
   ]
  },
  {
   "cell_type": "code",
   "execution_count": 2,
   "metadata": {},
   "outputs": [
    {
     "data": {
      "text/plain": [
       "4.9"
      ]
     },
     "execution_count": 2,
     "metadata": {},
     "output_type": "execute_result"
    }
   ],
   "source": [
    "import numpy as np\n",
    "startTime = 0\n",
    "endTime = 1\n",
    "t = np.linspace(startTime,endTime,endTime+1)\n",
    "\n",
    "\n",
    "def ChangeY(t):\n",
    "    yValue = 0\n",
    "    dy = np.empty(len(t))\n",
    "    for count in range(1,len(t)):\n",
    "        dt = t[count] - t[count-1]\n",
    "        # Here is where you put the equation, t[count] is the t part \n",
    "        dy[count] = (0.5*9.8*(t[count])**2)*dt\n",
    "        yValue = yValue + dy[count]\n",
    "       \n",
    "        count = count + 1\n",
    "    return(yValue)\n",
    "\n",
    "\n",
    "def FullChangeY(dy):\n",
    "    count = 0 \n",
    "    yValue = 0\n",
    "    endTime = len(t)\n",
    "    #for i in range(1,endTime+1):\n",
    "    #    yValue = yValue + dy[i]\n",
    "    return(yValue)\n",
    "\n",
    "\n",
    "ChangeY(t)\n",
    "\n",
    "    \n",
    "        "
   ]
  },
  {
   "cell_type": "code",
   "execution_count": 3,
   "metadata": {},
   "outputs": [
    {
     "data": {
      "text/plain": [
       "array([0, 0])"
      ]
     },
     "execution_count": 3,
     "metadata": {},
     "output_type": "execute_result"
    }
   ],
   "source": [
    "r0 = np.array([0,0])\n",
    "v0 = np.array([0,0])\n",
    "\n",
    "F = np.array([1,2])\n",
    "\n",
    "r0 + F*v0\n",
    "\n"
   ]
  },
  {
   "cell_type": "code",
   "execution_count": 4,
   "metadata": {},
   "outputs": [],
   "source": [
    "import numpy as np\n",
    "import numba\n",
    "from numba import jit\n"
   ]
  },
  {
   "cell_type": "code",
   "execution_count": 5,
   "metadata": {},
   "outputs": [],
   "source": [
    "import numpy as np\n",
    "from scipy.integrate import odeint\n",
    "import matplotlib.pyplot as plt"
   ]
  },
  {
   "cell_type": "code",
   "execution_count": 40,
   "metadata": {},
   "outputs": [
    {
     "data": {
      "image/png": "[encoded data removed]",
      "text/plain": [
       "<Figure size 432x288 with 1 Axes>"
      ]
     },
     "metadata": {
      "needs_background": "light"
     },
     "output_type": "display_data"
    }
   ],
   "source": [
    "dt = 0.01\n",
    "v0 = 0 \n",
    "x0 = 0\n",
    "steps = 4000\n",
    "minDistance = 0.5\n",
    "t = np.linspace(0,steps*dt,steps+1)\n",
    "def dv(F,m):\n",
    "    \n",
    "    dv = F/m*dt\n",
    "    return(dv)\n",
    "def NewVelocity(v,dv):\n",
    "    return(v+dv)\n",
    "\n",
    "def dx(v):\n",
    "\n",
    "    dx = v*dt\n",
    "    return(dx)\n",
    "\n",
    "def NewPosition(x,dx):\n",
    "    return(x+dx)\n",
    "\n",
    "def dy(v):\n",
    "\n",
    "    dy = v*dt\n",
    "    return(dy)\n",
    "\n",
    "def NewPosition(y,dy):\n",
    "    return(y+dy)\n",
    "def dz(v):\n",
    "\n",
    "    dz = v*dt\n",
    "    return(dz)\n",
    "\n",
    "m1 = 1 \n",
    "m2 = 2 \n",
    "E = 1\n",
    "B = 1\n",
    "k = 0.5\n",
    "q1 = 1 \n",
    "q2 = 1 \n",
    "\n",
    "#Velocities for 1st particles\n",
    "vx = np.zeros(steps+1)\n",
    "vy = np.zeros(steps+1)\n",
    "vz = np.zeros(steps+1)\n",
    "#Positions for 1st particle\n",
    "x = np.zeros(steps+1)\n",
    "y = np.zeros(steps+1)\n",
    "z = np.zeros(steps+1)\n",
    "\n",
    "#Initial conditions for 1st particle\n",
    "x[0] = 0\n",
    "y[0] = 0 \n",
    "vy[0] = 0\n",
    "\n",
    "#Velocities for 2nd particle\n",
    "vx2 = np.zeros(steps+1)\n",
    "vy2 = np.zeros(steps+1)\n",
    "vz2 = np.zeros(steps+1)\n",
    "#Positions for 2nd particle\n",
    "x2 = np.zeros(steps+1)\n",
    "y2 = np.zeros(steps+1)\n",
    "z2 = np.zeros(steps+1)\n",
    "\n",
    "\n",
    "#Initial Conditions for 2nd particle\n",
    "x2[0] = 1\n",
    "y2[0] = 0\n",
    "vy2[0] = 2\n",
    "\n",
    "\n",
    "\n",
    "\n",
    "for i in range(0,steps):\n",
    "    \n",
    "    twoToOneDistance = math.sqrt((x2[i]-x[i])**2+(y2[i]-y[i])**2+(z2[i]-z[i])**2)\n",
    "    oneToTwoDistance = math.sqrt((x[i]-x2[i])**2+(y[i]-y2[i])**2+(z[i]-z2[i])**2)\n",
    "    \n",
    "    ## Sets minimum Distance force for each. If it's less than \"minDistance\", \n",
    "    ## it will set it equal to the \"minDistance\"\n",
    "    if (twoToOneDistance < minDistance):\n",
    "        twoToOneDistance = minDistance\n",
    "    if (oneToTwoDistance < minDistance):\n",
    "        oneToTwoDistance = minDistance\n",
    "        \n",
    "        \n",
    "        \n",
    "    force1x = 0\n",
    "    force1y = q1*B*vz[i]\n",
    "    force1z = q1*(E - B*vy[i])\n",
    "    force2x = k*q1*q2*(x2[i]-x[i])/(twoToOneDistance)**(3) + q2*B*vy2[i]\n",
    "    force2y = k*q1*q2*(y2[i]-y[i])/(twoToOneDistance)**(3) + q2*E - q2*B*vx2[i]\n",
    "    force2z = 0 \n",
    "    \n",
    "    #force1x = B*vy[i]\n",
    "    #force1y = E - B*vx[i]\n",
    "    #force2x = 0 \n",
    "    #force2y = -9.8\n",
    "   \n",
    "    #Iterators for Velocity and Position\n",
    "    vx[i+1] = NewVelocity(vx[i],dv(force1x,m1)) \n",
    "    vy[i+1] = NewVelocity(vy[i],dv(force1y,m1))\n",
    "    vz[i+1] = NewVelocity(vz[i],dv(force1z,m1))\n",
    "    x[i+1] = NewPosition(x[i],dx(vx[i]))\n",
    "    y[i+1] = NewPosition(y[i],dy(vy[i]))\n",
    "    z[i+1] = NewPosition(z[i],dz(vz[i]))\n",
    "    \n",
    "    \n",
    "    vx2[i+1] = NewVelocity(vx2[i],dv(force2x,m2)) \n",
    "    vy2[i+1] = NewVelocity(vy2[i],dv(force2y,m2))\n",
    "    vz2[i+1] = NewVelocity(vz2[i],dv(force2z,m2))\n",
    "    x2[i+1] = NewPosition(x2[i],dx(vx2[i]))\n",
    "    y2[i+1] = NewPosition(y2[i],dy(vy2[i]))\n",
    "    z2[i+1] = NewPosition(z2[i],dz(vz2[i]))\n",
    "    \n",
    "    \n",
    " \n",
    "    \n",
    "    \n",
    "#fig, (ax1, ax2) = plt.subplots(1, 2)\n",
    "\n",
    "#ax1.scatter(x, y,marker='.')  # Plot some data on the axes.\n",
    "#ax2.scatter(x2,y2,marker='.')\n",
    "plt.plot(y,z)\n",
    "\n",
    "plt.show()\n",
    "\n",
    "radius = 10\n",
    "negative = -10 \n",
    "#ax1.set(xlim=(negative, radius), ylim=(negative, radius))\n",
    "\n",
    "\n",
    "\n",
    "#ax2.set(xlim=(negative, radius), ylim=(negative, radius))\n",
    "\n",
    "\n"
   ]
  },
  {
   "cell_type": "markdown",
   "metadata": {},
   "source": [
    "Thanks for Watching!!"
   ]
  },
  {
   "cell_type": "code",
   "execution_count": 7,
   "metadata": {},
   "outputs": [
    {
     "name": "stdout",
     "output_type": "stream",
     "text": [
      "k = 4\n"
     ]
    },
    {
     "data": {
      "image/png": "[encoded data removed]",
      "text/plain": [
       "<Figure size 432x288 with 1 Axes>"
      ]
     },
     "metadata": {
      "needs_background": "light"
     },
     "output_type": "display_data"
    }
   ],
   "source": [
    "dt = 0.01\n",
    "v0 = 0 \n",
    "x0 = 0\n",
    "steps = 1000\n",
    "minDistance = 0.5\n",
    "\n",
    "\n",
    "\n",
    "\n",
    "t = np.linspace(0,steps*dt,steps+1)\n",
    "def dv(F):\n",
    "    \n",
    "    dv = F*dt\n",
    "    return(dv)\n",
    "def NewVelocity(v,dv):\n",
    "    return(v+dv)\n",
    "\n",
    "def dx(v):\n",
    "\n",
    "    dx = v*dt\n",
    "    return(dx)\n",
    "\n",
    "def NewPosition(x,dx):\n",
    "    return(x+dx)\n",
    "\n",
    "def dy(v):\n",
    "\n",
    "    dy = v*dt\n",
    "    return(dy)\n",
    "\n",
    "def NewPosition(y,dy):\n",
    "    return(y+dy)\n",
    "\n",
    "E = 0\n",
    "B = 0\n",
    "k = float(input('k = '))\n",
    "q1 = -1 \n",
    "q2 = 1 \n",
    "\n",
    "vx = np.zeros(steps+1)\n",
    "vy = np.zeros(steps+1)\n",
    "x = np.zeros(steps+1)\n",
    "y = np.zeros(steps+1)\n",
    "x[0] = -1\n",
    "y[0] = 0 \n",
    "vy[0] = 1\n",
    "\n",
    "\n",
    "vx2 = np.zeros(steps+1)\n",
    "vy2 = np.zeros(steps+1)\n",
    "x2 = np.zeros(steps+1)\n",
    "y2 = np.zeros(steps+1)\n",
    "x2[0] = 1\n",
    "y2[0] = 0\n",
    "vy2[0] = -1\n",
    "\n",
    "\n",
    "\n",
    "\n",
    "for i in range(0,steps):\n",
    "    \n",
    "    twoToOneDistance = (x2[i]-x[i])**2+(y2[i]-y[i])**2\n",
    "    oneToTwoDistance = (x[i]-x2[i])**2+(y[i]-y2[i])**2\n",
    "    \n",
    "    ## Sets minimum Distance force for each. If it's less than \"minDistance\", \n",
    "    ## it will set it equal to the \"minDistance\"\n",
    "    if (twoToOneDistance < minDistance):\n",
    "        twoToOneDistance = minDistance\n",
    "    if (oneToTwoDistance < minDistance):\n",
    "        oneToTwoDistance = minDistance\n",
    "        \n",
    "        \n",
    "        \n",
    "    force1x = k*q1*q2*(x[i]-x2[i])/(oneToTwoDistance)**(3/2) + q1*B*vy[i]\n",
    "    force1y = k*q1*q2*(y[i]-y2[i])/(oneToTwoDistance)**(3/2) + q1*E - q1*B*vx[i]\n",
    "    force2x = k*q1*q2*(x2[i]-x[i])/(twoToOneDistance)**(3/2) + q2*B*vy2[i]\n",
    "    force2y = k*q1*q2*(y2[i]-y[i])/(twoToOneDistance)**(3/2) + q2*E - q2*B*vx2[i]\n",
    "    \n",
    "    #force1x = B*vy[i]\n",
    "    #force1y = E - B*vx[i]\n",
    "    #force2x = 0 \n",
    "    #force2y = -9.8\n",
    "   \n",
    "    \n",
    "    vx[i+1] = NewVelocity(vx[i],dv(force1x)) \n",
    "    vy[i+1] = NewVelocity(vy[i],dv(force1y))\n",
    "    x[i+1] = NewVelocity(x[i],dx(vx[i]))\n",
    "    y[i+1] = NewVelocity(y[i],dy(vy[i]))\n",
    "    \n",
    "    vx2[i+1] = NewVelocity(vx2[i],dv(force2x)) \n",
    "    vy2[i+1] = NewVelocity(vy2[i],dv(force2y))\n",
    "    x2[i+1] = NewVelocity(x2[i],dx(vx2[i]))\n",
    "    y2[i+1] = NewVelocity(y2[i],dy(vy2[i]))\n",
    "    \n",
    "    \n",
    "#fig, (ax1, ax2) = plt.subplots(1, 2)\n",
    "\n",
    "#ax1.scatter(x, y,marker='.')  # Plot some data on the axes.\n",
    "#ax2.scatter(x2,y2,marker='.')\n",
    "plt.plot(x,y)\n",
    "plt.plot(x2,y2)\n",
    "plt.show()\n",
    "\n",
    "radius = 10\n",
    "negative = -10 \n",
    "#ax1.set(xlim=(negative, radius), ylim=(negative, radius))\n",
    "\n",
    "\n",
    "\n",
    "#ax2.set(xlim=(negative, radius), ylim=(negative, radius))\n",
    "\n",
    "\n"
   ]
  },
  {
   "cell_type": "code",
   "execution_count": 8,
   "metadata": {},
   "outputs": [
    {
     "name": "stdout",
     "output_type": "stream",
     "text": [
      "E = 1\n"
     ]
    },
    {
     "data": {
      "image/png": "[encoded data removed]",
      "text/plain": [
       "<Figure size 432x288 with 1 Axes>"
      ]
     },
     "metadata": {
      "needs_background": "light"
     },
     "output_type": "display_data"
    }
   ],
   "source": [
    "dt = 0.01\n",
    "v0 = 0 \n",
    "x0 = 0\n",
    "steps = 10000\n",
    "minDistance = 0.5\n",
    "\n",
    "\n",
    "\n",
    "\n",
    "t = np.linspace(0,steps*dt,steps+1)\n",
    "def dv(F):\n",
    "    \n",
    "    dv = F*dt\n",
    "    return(dv)\n",
    "def NewVelocity(v,dv):\n",
    "    return(v+dv)\n",
    "\n",
    "def dx(v):\n",
    "\n",
    "    dx = v*dt\n",
    "    return(dx)\n",
    "\n",
    "def NewPosition(x,dx):\n",
    "    return(x+dx)\n",
    "\n",
    "def dy(v):\n",
    "\n",
    "    dy = v*dt\n",
    "    return(dy)\n",
    "\n",
    "def NewPosition(y,dy):\n",
    "    return(y+dy)\n",
    "\n",
    "E = float(input(\"E = \"))\n",
    "B = 0\n",
    "k = 4\n",
    "q1 = -1\n",
    "q2 = 1\n",
    "\n",
    "vx = np.zeros(steps+1)\n",
    "vy = np.zeros(steps+1)\n",
    "x = np.zeros(steps+1)\n",
    "y = np.zeros(steps+1)\n",
    "x[0] = -1\n",
    "y[0] = 0 \n",
    "vy[0] = 2\n",
    "\n",
    "\n",
    "vx2 = np.zeros(steps+1)\n",
    "vy2 = np.zeros(steps+1)\n",
    "x2 = np.zeros(steps+1)\n",
    "y2 = np.zeros(steps+1)\n",
    "x2[0] = 1\n",
    "y2[0] = 0\n",
    "vy2[0] = 2\n",
    "\n",
    "\n",
    "\n",
    "\n",
    "for i in range(0,steps):\n",
    "    \n",
    "    twoToOneDistance = (x2[i]-x[i])**2+(y2[i]-y[i])**2\n",
    "    oneToTwoDistance = (x[i]-x2[i])**2+(y[i]-y2[i])**2\n",
    "    \n",
    "    ## Sets minimum Distance force for each. If it's less than \"minDistance\", \n",
    "    ## it will set it equal to the \"minDistance\"\n",
    "    if (twoToOneDistance < minDistance):\n",
    "        twoToOneDistance = minDistance\n",
    "    if (oneToTwoDistance < minDistance):\n",
    "        oneToTwoDistance = minDistance\n",
    "        \n",
    "        \n",
    "        \n",
    "    force1x = k*q1*q2*(x[i]-x2[i])/(oneToTwoDistance)**(3/2) + q1*B*vy[i]\n",
    "    force1y = k*q1*q2*(y[i]-y2[i])/(oneToTwoDistance)**(3/2) + q1*E - q1*B*vx[i]\n",
    "    force2x = k*q1*q2*(x2[i]-x[i])/(twoToOneDistance)**(3/2) + q2*B*vy2[i]\n",
    "    force2y = k*q1*q2*(y2[i]-y[i])/(twoToOneDistance)**(3/2) + q2*E - q2*B*vx2[i]\n",
    "    \n",
    "    #force1x = B*vy[i]\n",
    "    #force1y = E - B*vx[i]\n",
    "    #force2x = 0 \n",
    "    #force2y = -9.8\n",
    "   \n",
    "    \n",
    "    vx[i+1] = NewVelocity(vx[i],dv(force1x)) \n",
    "    vy[i+1] = NewVelocity(vy[i],dv(force1y))\n",
    "    x[i+1] = NewVelocity(x[i],dx(vx[i]))\n",
    "    y[i+1] = NewVelocity(y[i],dy(vy[i]))\n",
    "    \n",
    "    vx2[i+1] = NewVelocity(vx2[i],dv(force2x)) \n",
    "    vy2[i+1] = NewVelocity(vy2[i],dv(force2y))\n",
    "    x2[i+1] = NewVelocity(x2[i],dx(vx2[i]))\n",
    "    y2[i+1] = NewVelocity(y2[i],dy(vy2[i]))\n",
    "    \n",
    "    \n",
    "#fig, (ax1, ax2) = plt.subplots(1, 2)\n",
    "\n",
    "#ax1.scatter(x, y,marker='.')  # Plot some data on the axes.\n",
    "#ax2.scatter(x2,y2,marker='.')\n",
    "plt.plot(x,y)\n",
    "plt.plot(x2,y2)\n",
    "plt.show()\n",
    "\n",
    "radius = 10\n",
    "negative = -10 \n",
    "#ax1.set(xlim=(negative, radius), ylim=(negative, radius))\n",
    "\n",
    "\n",
    "\n",
    "#ax2.set(xlim=(negative, radius), ylim=(negative, radius))\n",
    "\n",
    "\n"
   ]
  },
  {
   "cell_type": "markdown",
   "metadata": {},
   "source": [
    "symplectic (leap frog)"
   ]
  },
  {
   "cell_type": "code",
   "execution_count": 9,
   "metadata": {},
   "outputs": [
    {
     "name": "stdout",
     "output_type": "stream",
     "text": [
      "B = 1\n"
     ]
    },
    {
     "data": {
      "image/png": "[encoded data removed]",
      "text/plain": [
       "<Figure size 432x288 with 1 Axes>"
      ]
     },
     "metadata": {
      "needs_background": "light"
     },
     "output_type": "display_data"
    }
   ],
   "source": [
    "dt = 0.01\n",
    "v0 = 0 \n",
    "x0 = 0\n",
    "steps = 1000\n",
    "minDistance = 0.5\n",
    "\n",
    "\n",
    "\n",
    "\n",
    "t = np.linspace(0,steps*dt,steps+1)\n",
    "def dv(F):\n",
    "    \n",
    "    dv = F*dt\n",
    "    return(dv)\n",
    "def NewVelocity(v,dv):\n",
    "    return(v+dv)\n",
    "\n",
    "def dx(v):\n",
    "\n",
    "    dx = v*dt\n",
    "    return(dx)\n",
    "\n",
    "def NewPosition(x,dx):\n",
    "    return(x+dx)\n",
    "\n",
    "def dy(v):\n",
    "\n",
    "    dy = v*dt\n",
    "    return(dy)\n",
    "\n",
    "def NewPosition(y,dy):\n",
    "    return(y+dy)\n",
    "\n",
    "E = 4\n",
    "B = float(input(\"B = \"))\n",
    "k = 4\n",
    "q1 = -1 \n",
    "q2 = 1 \n",
    "\n",
    "vx = np.zeros(steps+1)\n",
    "vy = np.zeros(steps+1)\n",
    "x = np.zeros(steps+1)\n",
    "y = np.zeros(steps+1)\n",
    "x[0] = -1\n",
    "y[0] = 0 \n",
    "vy[0] = 2\n",
    "\n",
    "\n",
    "vx2 = np.zeros(steps+1)\n",
    "vy2 = np.zeros(steps+1)\n",
    "x2 = np.zeros(steps+1)\n",
    "y2 = np.zeros(steps+1)\n",
    "x2[0] = 1\n",
    "y2[0] = 0\n",
    "vy2[0] = 2\n",
    "\n",
    "\n",
    "\n",
    "\n",
    "for i in range(0,steps):\n",
    "    \n",
    "    twoToOneDistance = (x2[i]-x[i])**2+(y2[i]-y[i])**2\n",
    "    oneToTwoDistance = (x[i]-x2[i])**2+(y[i]-y2[i])**2\n",
    "    \n",
    "    ## Sets minimum Distance force for each. If it's less than \"minDistance\", \n",
    "    ## it will set it equal to the \"minDistance\"\n",
    "    if (twoToOneDistance < minDistance):\n",
    "        twoToOneDistance = minDistance\n",
    "    if (oneToTwoDistance < minDistance):\n",
    "        oneToTwoDistance = minDistance\n",
    "        \n",
    "        \n",
    "        \n",
    "    force1x = k*q1*q2*(x[i]-x2[i])/(oneToTwoDistance)**(3/2) + q1*B*vy[i]\n",
    "    force1y = k*q1*q2*(y[i]-y2[i])/(oneToTwoDistance)**(3/2) + q1*E - q1*B*vx[i]\n",
    "    force2x = k*q1*q2*(x2[i]-x[i])/(twoToOneDistance)**(3/2) + q2*B*vy2[i]\n",
    "    force2y = k*q1*q2*(y2[i]-y[i])/(twoToOneDistance)**(3/2) + q2*E - q2*B*vx2[i]\n",
    "    \n",
    "    #force1x = B*vy[i]\n",
    "    #force1y = E - B*vx[i]\n",
    "    #force2x = 0 \n",
    "    #force2y = -9.8\n",
    "   \n",
    "    \n",
    "    vx[i+1] = NewVelocity(vx[i],dv(force1x)) \n",
    "    vy[i+1] = NewVelocity(vy[i],dv(force1y))\n",
    "    x[i+1] = NewVelocity(x[i],dx(vx[i]))\n",
    "    y[i+1] = NewVelocity(y[i],dy(vy[i]))\n",
    "    \n",
    "    vx2[i+1] = NewVelocity(vx2[i],dv(force2x)) \n",
    "    vy2[i+1] = NewVelocity(vy2[i],dv(force2y))\n",
    "    x2[i+1] = NewVelocity(x2[i],dx(vx2[i]))\n",
    "    y2[i+1] = NewVelocity(y2[i],dy(vy2[i]))\n",
    "    \n",
    "    \n",
    "#fig, (ax1, ax2) = plt.subplots(1, 2)\n",
    "\n",
    "#ax1.scatter(x, y,marker='.')  # Plot some data on the axes.\n",
    "#ax2.scatter(x2,y2,marker='.')\n",
    "plt.plot(x,y)\n",
    "plt.plot(x2,y2)\n",
    "plt.show()\n",
    "\n",
    "radius = 10\n",
    "negative = -10 \n",
    "#ax1.set(xlim=(negative, radius), ylim=(negative, radius))\n",
    "\n",
    "\n",
    "\n",
    "#ax2.set(xlim=(negative, radius), ylim=(negative, radius))\n",
    "\n",
    "\n"
   ]
  },
  {
   "cell_type": "code",
   "execution_count": 10,
   "metadata": {},
   "outputs": [
    {
     "data": {
      "text/plain": [
       "[<matplotlib.lines.Line2D at 0x15ba9da40d0>]"
      ]
     },
     "execution_count": 10,
     "metadata": {},
     "output_type": "execute_result"
    },
    {
     "data": {
      "image/png": "[encoded data removed]",
      "text/plain": [
       "<Figure size 432x288 with 1 Axes>"
      ]
     },
     "metadata": {
      "needs_background": "light"
     },
     "output_type": "display_data"
    }
   ],
   "source": [
    "plt.plot(x,y)\n",
    "plt.plot(x2,y2)"
   ]
  },
  {
   "cell_type": "markdown",
   "metadata": {},
   "source": [
    "# "
   ]
  },
  {
   "cell_type": "code",
   "execution_count": 11,
   "metadata": {},
   "outputs": [
    {
     "data": {
      "image/png": "[encoded data removed]",
      "text/plain": [
       "<Figure size 432x288 with 1 Axes>"
      ]
     },
     "metadata": {
      "needs_background": "light"
     },
     "output_type": "display_data"
    }
   ],
   "source": [
    "import numpy as np\n",
    "from scipy.integrate import odeint\n",
    "import matplotlib.pyplot as plt\n",
    "\n",
    "# function that returns dy/dt\n",
    "def model(y,t):\n",
    "    k = 0.3\n",
    "    dydt = k*t\n",
    "    return dydt\n",
    "\n",
    "# initial condition\n",
    "y0 = 5\n",
    "\n",
    "# time points\n",
    "t = np.linspace(0,20)\n",
    "\n",
    "# solve ODE\n",
    "y = odeint(model,y0,t)\n",
    "\n",
    "# plot results\n",
    "plt.plot(t,y)\n",
    "plt.xlabel('time')\n",
    "plt.ylabel('y(t)')\n",
    "plt.show()"
   ]
  },
  {
   "cell_type": "code",
   "execution_count": 12,
   "metadata": {},
   "outputs": [
    {
     "name": "stdout",
     "output_type": "stream",
     "text": [
      "pygame 2.0.0 (SDL 2.0.12, python 3.8.3)\n",
      "Hello from the pygame community. https://www.pygame.org/contribute.html\n"
     ]
    }
   ],
   "source": [
    "import pygame\n",
    "from pygame.locals import *"
   ]
  },
  {
   "cell_type": "code",
   "execution_count": 13,
   "metadata": {},
   "outputs": [
    {
     "data": {
      "text/plain": [
       "(6, 0)"
      ]
     },
     "execution_count": 13,
     "metadata": {},
     "output_type": "execute_result"
    }
   ],
   "source": [
    "pygame.init()"
   ]
  },
  {
   "cell_type": "code",
   "execution_count": 14,
   "metadata": {},
   "outputs": [],
   "source": [
    "aSmallAmount = 0.1\n",
    "def stepper(t_small,dydx):\n",
    "    \n",
    "    Changey = dydx*t_small\n",
    "    return (Changey)\n",
    "\n",
    "start = 0 \n",
    "def adderLinear(steps, t_small, dydx):\n",
    "    y = start\n",
    "    for i in range(0,steps):\n",
    "        y = y + stepper(t_small,dydx)\n",
    "    \n",
    "    return(y)\n",
    "\n",
    "def StepperForDy(t_small,d2ydx2):\n",
    "    \n",
    "    ChangeinDy = d2ydx2*t_small\n",
    "    return(ChangeinDy)\n",
    "\n",
    "def adderQuadratic(steps, t_small, d2ydx2):\n",
    "    y = start \n",
    "    for i in range(0, steps):\n",
    "        dydx = adderLinear(i,t_small,d2ydx2)\n",
    "        y = y + stepper(t_small,dydx)\n",
    "        \n",
    "    return(y)\n",
    "\n",
    "def adderTercer(steps, t_small, d3y):\n",
    "    y = start \n",
    "    for i in range(0, steps):\n",
    "        d2ydx2 = adderLinear(i, t_small, d3y)\n",
    "        dydx = adderLinear(i, t_small, d2ydx2)\n",
    "        y = y + stepper(t_small,dydx)\n",
    "    \n",
    "    return(y)\n",
    "        "
   ]
  },
  {
   "cell_type": "code",
   "execution_count": null,
   "metadata": {},
   "outputs": [],
   "source": []
  },
  {
   "cell_type": "code",
   "execution_count": null,
   "metadata": {},
   "outputs": [],
   "source": []
  }
 ],
 "metadata": {
  "kernelspec": {
   "display_name": "Python 3",
   "language": "python",
   "name": "python3"
  },
  "language_info": {
   "codemirror_mode": {
    "name": "ipython",
    "version": 3
   },
   "file_extension": ".py",
   "mimetype": "text/x-python",
   "name": "python",
   "nbconvert_exporter": "python",
   "pygments_lexer": "ipython3",
   "version": "3.8.3"
  }
 },
 "nbformat": 4,
 "nbformat_minor": 4
}
